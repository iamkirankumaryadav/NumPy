{
 "metadata": {
  "language_info": {
   "codemirror_mode": {
    "name": "ipython",
    "version": 3
   },
   "file_extension": ".py",
   "mimetype": "text/x-python",
   "name": "python",
   "nbconvert_exporter": "python",
   "pygments_lexer": "ipython3",
   "version": "3.9.1-final"
  },
  "orig_nbformat": 2,
  "kernelspec": {
   "name": "python3",
   "display_name": "Python 3.9.1 64-bit",
   "metadata": {
    "interpreter": {
     "hash": "336dbeefbbfec705ba872c6f18935ad34da48993192f6f236bac6ca2e275c1f0"
    }
   }
  }
 },
 "nbformat": 4,
 "nbformat_minor": 2,
 "cells": [
  {
   "source": [
    "# Generating Numbers using NumPy"
   ],
   "cell_type": "markdown",
   "metadata": {}
  },
  {
   "cell_type": "code",
   "execution_count": 1,
   "metadata": {},
   "outputs": [],
   "source": [
    "import numpy as np"
   ]
  },
  {
   "source": [
    "# np.empty()"
   ],
   "cell_type": "markdown",
   "metadata": {}
  },
  {
   "cell_type": "code",
   "execution_count": 2,
   "metadata": {},
   "outputs": [
    {
     "output_type": "stream",
     "name": "stdout",
     "text": [
      "[[0.000e+000 0.000e+000 0.000e+000]\n [0.000e+000 0.000e+000 6.403e-321]\n [0.000e+000 0.000e+000 0.000e+000]]\n"
     ]
    }
   ],
   "source": [
    "empty_array = np.empty(shape=(3,3), dtype=np.float)\n",
    "print(empty_array)"
   ]
  },
  {
   "source": [
    "# np.zeros()\n",
    "\n",
    "Matrix of 0's"
   ],
   "cell_type": "markdown",
   "metadata": {}
  },
  {
   "cell_type": "code",
   "execution_count": 3,
   "metadata": {},
   "outputs": [
    {
     "output_type": "stream",
     "name": "stdout",
     "text": [
      "[[0. 0. 0.]\n [0. 0. 0.]\n [0. 0. 0.]]\n"
     ]
    }
   ],
   "source": [
    "zeros_array = np.zeros(shape=(3,3))\n",
    "print(zeros_array)"
   ]
  },
  {
   "source": [
    "# np.ones()\n",
    "\n",
    "Matrix of 1's"
   ],
   "cell_type": "markdown",
   "metadata": {}
  },
  {
   "cell_type": "code",
   "execution_count": 4,
   "metadata": {},
   "outputs": [
    {
     "output_type": "stream",
     "name": "stdout",
     "text": [
      "[[1. 1. 1.]\n [1. 1. 1.]\n [1. 1. 1.]]\n"
     ]
    }
   ],
   "source": [
    "ones_array = np.ones(shape=(3,3))\n",
    "print(ones_array)"
   ]
  },
  {
   "source": [
    "# np.eyes()\n",
    "\n",
    "Identity Matrix"
   ],
   "cell_type": "markdown",
   "metadata": {}
  },
  {
   "cell_type": "code",
   "execution_count": 5,
   "metadata": {},
   "outputs": [
    {
     "output_type": "stream",
     "name": "stdout",
     "text": [
      "[[1. 0. 0.]\n [0. 1. 0.]\n [0. 0. 1.]]\n"
     ]
    }
   ],
   "source": [
    "eyes_array = np.eye(3)\n",
    "print(eyes_array)"
   ]
  },
  {
   "source": [
    "# np.full()\n",
    "\n",
    "Matrix filled with Specified Values"
   ],
   "cell_type": "markdown",
   "metadata": {}
  },
  {
   "cell_type": "code",
   "execution_count": 6,
   "metadata": {},
   "outputs": [
    {
     "output_type": "stream",
     "name": "stdout",
     "text": [
      "[[7 7 7]\n [7 7 7]\n [7 7 7]]\n"
     ]
    }
   ],
   "source": [
    "full_array = np.full(shape=(3,3), fill_value=7)\n",
    "print(full_array)"
   ]
  },
  {
   "source": [
    "Also Accept Strings"
   ],
   "cell_type": "markdown",
   "metadata": {}
  },
  {
   "cell_type": "code",
   "execution_count": 7,
   "metadata": {},
   "outputs": [
    {
     "output_type": "stream",
     "name": "stdout",
     "text": [
      "[['Kirankumar' 'Kirankumar' 'Kirankumar']\n ['Kirankumar' 'Kirankumar' 'Kirankumar']\n ['Kirankumar' 'Kirankumar' 'Kirankumar']]\n"
     ]
    }
   ],
   "source": [
    "full_array = np.full(shape=(3,3), fill_value='Kirankumar')\n",
    "print(full_array)"
   ]
  },
  {
   "source": [
    "# Like Functions"
   ],
   "cell_type": "markdown",
   "metadata": {}
  },
  {
   "cell_type": "code",
   "execution_count": 8,
   "metadata": {},
   "outputs": [
    {
     "output_type": "stream",
     "name": "stdout",
     "text": [
      "[[1 2 3]\n [4 5 6]\n [7 8 9]]\n"
     ]
    }
   ],
   "source": [
    "matrix = np.array([[1,2,3],[4,5,6],[7,8,9]])\n",
    "print(matrix)"
   ]
  },
  {
   "cell_type": "code",
   "execution_count": 9,
   "metadata": {},
   "outputs": [
    {
     "output_type": "stream",
     "name": "stdout",
     "text": [
      "Zeros Like Array : \n[[0 0 0]\n [0 0 0]\n [0 0 0]]\n\nOnes Like Array : \n[[1 1 1]\n [1 1 1]\n [1 1 1]]\n\nFull Like Array : \n[[7 7 7]\n [7 7 7]\n [7 7 7]]\n"
     ]
    }
   ],
   "source": [
    "print(f'Zeros Like Array : \\n{np.zeros_like(matrix)}\\n')\n",
    "print(f'Ones Like Array : \\n{np.ones_like(matrix)}\\n')\n",
    "print(f'Full Like Array : \\n{np.full_like(matrix, fill_value=7)}')"
   ]
  },
  {
   "source": [
    "# np.arange()\n",
    "\n",
    "Output an Array\n",
    "\n",
    "Similar to Range, Outputs an Object. \n",
    "\n",
    "stop / steps "
   ],
   "cell_type": "markdown",
   "metadata": {}
  },
  {
   "cell_type": "code",
   "execution_count": 10,
   "metadata": {},
   "outputs": [
    {
     "output_type": "stream",
     "name": "stdout",
     "text": [
      "[ 0  2  4  6  8 10]\n"
     ]
    }
   ],
   "source": [
    "a = np.arange(start=0, stop=11, step=2)\n",
    "print(a)"
   ]
  },
  {
   "source": [
    "# Random Generators\n",
    "\n",
    "Generate Random Variables in NumPy : [NumPy Random Generators](https://numpy.org/doc/stable/reference/random/generator.html) "
   ],
   "cell_type": "markdown",
   "metadata": {}
  },
  {
   "cell_type": "code",
   "execution_count": 11,
   "metadata": {},
   "outputs": [],
   "source": [
    "from numpy.random import Generator as gen\n",
    "from numpy.random import PCG64 as pcg  # Bit Generator"
   ]
  },
  {
   "cell_type": "code",
   "execution_count": 12,
   "metadata": {},
   "outputs": [
    {
     "output_type": "stream",
     "name": "stdout",
     "text": [
      "[1.81381358 0.26393219 0.31287552 0.4340815  2.24964387]\n"
     ]
    }
   ],
   "source": [
    "array = gen(pcg())\n",
    "print(array.normal(size=5))"
   ]
  },
  {
   "cell_type": "code",
   "execution_count": 13,
   "metadata": {},
   "outputs": [
    {
     "output_type": "stream",
     "name": "stdout",
     "text": [
      "[[ 1.22556992 -0.20907943 -1.23794152]\n [-0.4238896  -0.81597961 -0.49955426]\n [-0.02036614  0.28251445 -2.38721325]]\n"
     ]
    }
   ],
   "source": [
    "print(array.normal(size=(3,3)))"
   ]
  },
  {
   "source": [
    "# Normal Distribution"
   ],
   "cell_type": "markdown",
   "metadata": {}
  },
  {
   "cell_type": "code",
   "execution_count": 14,
   "metadata": {},
   "outputs": [
    {
     "output_type": "stream",
     "name": "stdout",
     "text": [
      "[[ 0.30471708 -1.03998411  0.7504512   0.94056472 -1.95103519]\n [-1.30217951  0.1278404  -0.31624259 -0.01680116 -0.85304393]\n [ 0.87939797  0.77779194  0.0660307   1.12724121  0.46750934]\n [-0.85929246  0.36875078 -0.9588826   0.8784503  -0.04992591]\n [-0.18486236 -0.68092954  1.22254134 -0.15452948 -0.42832782]]\n"
     ]
    }
   ],
   "source": [
    "array = gen(pcg(seed=42))\n",
    "print(array.normal(size=(5,5)))"
   ]
  },
  {
   "source": [
    "# Generate Whole Numbers (integers)"
   ],
   "cell_type": "markdown",
   "metadata": {}
  },
  {
   "cell_type": "code",
   "execution_count": 15,
   "metadata": {},
   "outputs": [
    {
     "output_type": "stream",
     "name": "stdout",
     "text": [
      "[[18 79 68 49 48]\n [87 17 72 28 18]\n [57 97 76 78 74]\n [80 56 21 85 50]\n [55 43 26 93 80]]\n"
     ]
    }
   ],
   "source": [
    "array = gen(pcg(seed=42))\n",
    "print(array.integers(low=10, high=100,size=(5,5)))"
   ]
  },
  {
   "source": [
    "# Probabilities : Numbers between 0 and 1"
   ],
   "cell_type": "markdown",
   "metadata": {}
  },
  {
   "cell_type": "code",
   "execution_count": 16,
   "metadata": {},
   "outputs": [
    {
     "output_type": "stream",
     "name": "stdout",
     "text": [
      "[[0.77395605 0.43887844 0.85859792 0.69736803 0.09417735]\n [0.97562235 0.7611397  0.78606431 0.12811363 0.45038594]\n [0.37079802 0.92676499 0.64386512 0.82276161 0.4434142 ]\n [0.22723872 0.55458479 0.06381726 0.82763117 0.6316644 ]\n [0.75808774 0.35452597 0.97069802 0.89312112 0.7783835 ]]\n"
     ]
    }
   ],
   "source": [
    "array = gen(pcg(seed=42))\n",
    "print(array.random(size=(5,5)))"
   ]
  },
  {
   "source": [
    "# Random Numbers from Choice"
   ],
   "cell_type": "markdown",
   "metadata": {}
  },
  {
   "cell_type": "code",
   "execution_count": 17,
   "metadata": {},
   "outputs": [
    {
     "output_type": "stream",
     "name": "stdout",
     "text": [
      "[[1 4 4 3 3]\n [5 1 4 2 1]\n [3 5 4 4 4]\n [4 3 1 5 3]\n [3 2 1 5 4]]\n"
     ]
    }
   ],
   "source": [
    "array = gen(pcg(seed=42))\n",
    "print(array.choice([1,2,3,4,5],size=(5,5)))"
   ]
  },
  {
   "source": [
    "# Poisson Distribution\n",
    "\n",
    "Over a Fixed Interval Time, Distance or Space\n",
    "\n",
    "We Expect an Event to Occur Exactly Once."
   ],
   "cell_type": "markdown",
   "metadata": {}
  },
  {
   "cell_type": "code",
   "execution_count": 18,
   "metadata": {},
   "outputs": [
    {
     "output_type": "stream",
     "name": "stdout",
     "text": [
      "[[1 2 3 1 3]\n [0 1 3 3 1]\n [0 3 1 0 0]\n [1 1 2 2 0]\n [1 0 0 3 1]]\n"
     ]
    }
   ],
   "source": [
    "array = gen(pcg(seed=42))\n",
    "print(array.poisson(size=(5,5)))"
   ]
  },
  {
   "cell_type": "code",
   "execution_count": 19,
   "metadata": {},
   "outputs": [
    {
     "output_type": "stream",
     "name": "stdout",
     "text": [
      "[[13  6  9 11  9]\n [10 13 13 13 10]\n [ 6  8 10  6  7]\n [ 9 12  9 12  7]\n [13 10  6 12 11]]\n"
     ]
    }
   ],
   "source": [
    "array = gen(pcg(seed=42))\n",
    "print(array.poisson(lam=10 ,size=(5,5)))"
   ]
  },
  {
   "source": [
    "# Binomial Distribution\n",
    "\n",
    "Measures how many times a certain outcome can Appear over a Series of Trials\n",
    "\n",
    "There are only 2 Possible Outcomes"
   ],
   "cell_type": "markdown",
   "metadata": {}
  },
  {
   "cell_type": "code",
   "execution_count": 20,
   "metadata": {},
   "outputs": [
    {
     "output_type": "stream",
     "name": "stdout",
     "text": [
      "[[46 31 34 39 40]\n [34 38 31 45 46]\n [35 38 43 35 39]\n [39 43 32 45 43]\n [44 42 38 37 41]]\n"
     ]
    }
   ],
   "source": [
    "array = gen(pcg(seed=42))\n",
    "print(array.binomial(n=100, p=0.4 ,size=(5,5)))\n",
    "# n : Number of Trials | p : Probability of getting Desired Outcome"
   ]
  },
  {
   "source": [
    "# Logistic Distribution"
   ],
   "cell_type": "markdown",
   "metadata": {}
  },
  {
   "cell_type": "code",
   "execution_count": 21,
   "metadata": {},
   "outputs": [
    {
     "output_type": "stream",
     "name": "stdout",
     "text": [
      "[[10.47694276  8.70514189 11.16443192 10.00175501  6.28360337]\n [13.4272907  10.39072568 10.56163575  6.69871023  8.76106623]\n [ 8.36544623 12.0456317   9.71061567 10.84220503  8.72721958]\n [ 7.53123711  9.26305535  5.77705551 10.8827173   9.64723651]\n [10.37066884  8.28095594 13.20043258 11.54763119 10.50752509]]\n"
     ]
    }
   ],
   "source": [
    "array = gen(pcg(seed=42))\n",
    "print(array.logistic(loc=9, scale=1.2 ,size=(5,5)))"
   ]
  },
  {
   "source": [
    "# Application\n",
    "\n",
    "When Real Data isn't Available\n",
    "\n",
    "Sometimes we need Pseudo Random Data to Test How well a Program Performs.\n",
    " "
   ],
   "cell_type": "markdown",
   "metadata": {}
  }
 ]
}
